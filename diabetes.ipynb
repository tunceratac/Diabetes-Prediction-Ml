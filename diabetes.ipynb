{
 "cells": [
  {
   "cell_type": "code",
   "execution_count": 1,
   "id": "4c2043b8",
   "metadata": {},
   "outputs": [],
   "source": [
    "# Predict whether people have diabetes when their characteristics are specified.\n",
    "# It is desired to develop a machine learning model that can model data analysis and feature engineering steps required\n",
    "# before development you are expected to do.\n",
    "import numpy as np\n",
    "import pandas as pd\n",
    "import  seaborn as sns\n",
    "from matplotlib import pyplot as plt\n",
    "from sklearn.preprocessing import LabelEncoder, StandardScaler\n",
    "from sklearn.ensemble import RandomForestClassifier\n",
    "from sklearn.model_selection import train_test_split, cross_val_score\n",
    "from sklearn.metrics import accuracy_score, precision_score, recall_score, f1_score, roc_auc_score\n",
    "from sklearn.metrics import mean_squared_error, mean_absolute_error\n",
    "from sklearn.neighbors import KNeighborsClassifier\n",
    "from sklearn.metrics import classification_report, roc_auc_score\n",
    "from sklearn.model_selection import GridSearchCV, cross_validate"
   ]
  },
  {
   "cell_type": "code",
   "execution_count": 2,
   "id": "0d46fa5a",
   "metadata": {},
   "outputs": [],
   "source": [
    "df = pd.read_csv(\"diabetes.csv\")"
   ]
  },
  {
   "cell_type": "code",
   "execution_count": 3,
   "id": "f408bb1c",
   "metadata": {},
   "outputs": [
    {
     "data": {
      "text/html": [
       "<div>\n",
       "<style scoped>\n",
       "    .dataframe tbody tr th:only-of-type {\n",
       "        vertical-align: middle;\n",
       "    }\n",
       "\n",
       "    .dataframe tbody tr th {\n",
       "        vertical-align: top;\n",
       "    }\n",
       "\n",
       "    .dataframe thead th {\n",
       "        text-align: right;\n",
       "    }\n",
       "</style>\n",
       "<table border=\"1\" class=\"dataframe\">\n",
       "  <thead>\n",
       "    <tr style=\"text-align: right;\">\n",
       "      <th></th>\n",
       "      <th>Pregnancies</th>\n",
       "      <th>Glucose</th>\n",
       "      <th>BloodPressure</th>\n",
       "      <th>SkinThickness</th>\n",
       "      <th>Insulin</th>\n",
       "      <th>BMI</th>\n",
       "      <th>DiabetesPedigreeFunction</th>\n",
       "      <th>Age</th>\n",
       "      <th>Outcome</th>\n",
       "    </tr>\n",
       "  </thead>\n",
       "  <tbody>\n",
       "    <tr>\n",
       "      <th>0</th>\n",
       "      <td>6</td>\n",
       "      <td>148</td>\n",
       "      <td>72</td>\n",
       "      <td>35</td>\n",
       "      <td>0</td>\n",
       "      <td>33.6</td>\n",
       "      <td>0.627</td>\n",
       "      <td>50</td>\n",
       "      <td>1</td>\n",
       "    </tr>\n",
       "    <tr>\n",
       "      <th>1</th>\n",
       "      <td>1</td>\n",
       "      <td>85</td>\n",
       "      <td>66</td>\n",
       "      <td>29</td>\n",
       "      <td>0</td>\n",
       "      <td>26.6</td>\n",
       "      <td>0.351</td>\n",
       "      <td>31</td>\n",
       "      <td>0</td>\n",
       "    </tr>\n",
       "    <tr>\n",
       "      <th>2</th>\n",
       "      <td>8</td>\n",
       "      <td>183</td>\n",
       "      <td>64</td>\n",
       "      <td>0</td>\n",
       "      <td>0</td>\n",
       "      <td>23.3</td>\n",
       "      <td>0.672</td>\n",
       "      <td>32</td>\n",
       "      <td>1</td>\n",
       "    </tr>\n",
       "    <tr>\n",
       "      <th>3</th>\n",
       "      <td>1</td>\n",
       "      <td>89</td>\n",
       "      <td>66</td>\n",
       "      <td>23</td>\n",
       "      <td>94</td>\n",
       "      <td>28.1</td>\n",
       "      <td>0.167</td>\n",
       "      <td>21</td>\n",
       "      <td>0</td>\n",
       "    </tr>\n",
       "    <tr>\n",
       "      <th>4</th>\n",
       "      <td>0</td>\n",
       "      <td>137</td>\n",
       "      <td>40</td>\n",
       "      <td>35</td>\n",
       "      <td>168</td>\n",
       "      <td>43.1</td>\n",
       "      <td>2.288</td>\n",
       "      <td>33</td>\n",
       "      <td>1</td>\n",
       "    </tr>\n",
       "  </tbody>\n",
       "</table>\n",
       "</div>"
      ],
      "text/plain": [
       "   Pregnancies  Glucose  BloodPressure  SkinThickness  Insulin   BMI  \\\n",
       "0            6      148             72             35        0  33.6   \n",
       "1            1       85             66             29        0  26.6   \n",
       "2            8      183             64              0        0  23.3   \n",
       "3            1       89             66             23       94  28.1   \n",
       "4            0      137             40             35      168  43.1   \n",
       "\n",
       "   DiabetesPedigreeFunction  Age  Outcome  \n",
       "0                     0.627   50        1  \n",
       "1                     0.351   31        0  \n",
       "2                     0.672   32        1  \n",
       "3                     0.167   21        0  \n",
       "4                     2.288   33        1  "
      ]
     },
     "execution_count": 3,
     "metadata": {},
     "output_type": "execute_result"
    }
   ],
   "source": [
    "df.head()"
   ]
  },
  {
   "cell_type": "code",
   "execution_count": 4,
   "id": "9dda6781",
   "metadata": {},
   "outputs": [
    {
     "data": {
      "text/plain": [
       "(768, 9)"
      ]
     },
     "execution_count": 4,
     "metadata": {},
     "output_type": "execute_result"
    }
   ],
   "source": [
    "df.shape"
   ]
  },
  {
   "cell_type": "code",
   "execution_count": 5,
   "id": "0fcd7b8f",
   "metadata": {
    "scrolled": true
   },
   "outputs": [
    {
     "data": {
      "text/plain": [
       "<bound method DataFrame.info of      Pregnancies  Glucose  BloodPressure  SkinThickness  Insulin   BMI  \\\n",
       "0              6      148             72             35        0  33.6   \n",
       "1              1       85             66             29        0  26.6   \n",
       "2              8      183             64              0        0  23.3   \n",
       "3              1       89             66             23       94  28.1   \n",
       "4              0      137             40             35      168  43.1   \n",
       "..           ...      ...            ...            ...      ...   ...   \n",
       "763           10      101             76             48      180  32.9   \n",
       "764            2      122             70             27        0  36.8   \n",
       "765            5      121             72             23      112  26.2   \n",
       "766            1      126             60              0        0  30.1   \n",
       "767            1       93             70             31        0  30.4   \n",
       "\n",
       "     DiabetesPedigreeFunction  Age  Outcome  \n",
       "0                       0.627   50        1  \n",
       "1                       0.351   31        0  \n",
       "2                       0.672   32        1  \n",
       "3                       0.167   21        0  \n",
       "4                       2.288   33        1  \n",
       "..                        ...  ...      ...  \n",
       "763                     0.171   63        0  \n",
       "764                     0.340   27        0  \n",
       "765                     0.245   30        0  \n",
       "766                     0.349   47        1  \n",
       "767                     0.315   23        0  \n",
       "\n",
       "[768 rows x 9 columns]>"
      ]
     },
     "execution_count": 5,
     "metadata": {},
     "output_type": "execute_result"
    }
   ],
   "source": [
    "df.info"
   ]
  },
  {
   "cell_type": "code",
   "execution_count": 6,
   "id": "2934eec2",
   "metadata": {},
   "outputs": [
    {
     "data": {
      "text/plain": [
       "Pregnancies                 0\n",
       "Glucose                     0\n",
       "BloodPressure               0\n",
       "SkinThickness               0\n",
       "Insulin                     0\n",
       "BMI                         0\n",
       "DiabetesPedigreeFunction    0\n",
       "Age                         0\n",
       "Outcome                     0\n",
       "dtype: int64"
      ]
     },
     "execution_count": 6,
     "metadata": {},
     "output_type": "execute_result"
    }
   ],
   "source": [
    "df.isnull().sum()"
   ]
  },
  {
   "cell_type": "code",
   "execution_count": 7,
   "id": "f9a6177d",
   "metadata": {},
   "outputs": [
    {
     "name": "stdout",
     "output_type": "stream",
     "text": [
      "Observations: 768\n",
      "Variables: 9\n",
      "cat_cols: 1\n",
      "num_cols: 8\n",
      "cat_but_car: 0\n",
      "num_but_cat: 1\n"
     ]
    }
   ],
   "source": [
    "# Capture numeric and categorical variables.\n",
    "cat_cols = [col for col in df.columns if str(df[col].dtypes) in [\"category\", \"object\", \"bool\"]]\n",
    "num_but_cat = [col for col in df.columns if df[col].nunique() < 10 and df[col].dtypes in [\"int64\", \"float\"]]\n",
    "cat_but_car = [col for col in df.columns if df[col].nunique() > 20 and str(df[col].dtypes) in [\"category\", \"object\", \"bool\"]]\n",
    "cat_cols = cat_cols + num_but_cat\n",
    "cat_cols = [col for col in cat_cols if col not in cat_but_car]\n",
    "num_cols = [col for col in df.columns if df[col].dtypes in [\"int64\", \"float\"]]\n",
    "num_cols = [col for col in df.columns if col not in cat_cols]\n",
    "print(f\"Observations: {df.shape[0]}\")\n",
    "print(f\"Variables: {df.shape[1]}\")\n",
    "print(f\"cat_cols: {len(cat_cols)}\")\n",
    "print(f\"num_cols: {len(num_cols)}\")\n",
    "print(f\"cat_but_car: {len(cat_but_car)}\")\n",
    "print(f\"num_but_cat: {len(num_but_cat)}\")"
   ]
  },
  {
   "cell_type": "code",
   "execution_count": 8,
   "id": "1e2ac694",
   "metadata": {},
   "outputs": [
    {
     "data": {
      "text/plain": [
       "Outcome    2\n",
       "dtype: int64"
      ]
     },
     "execution_count": 8,
     "metadata": {},
     "output_type": "execute_result"
    }
   ],
   "source": [
    "df[cat_cols].nunique()"
   ]
  },
  {
   "cell_type": "code",
   "execution_count": 9,
   "id": "bae95d4c",
   "metadata": {},
   "outputs": [
    {
     "data": {
      "text/plain": [
       "Pregnancies                  17\n",
       "Glucose                     136\n",
       "BloodPressure                47\n",
       "SkinThickness                51\n",
       "Insulin                     186\n",
       "BMI                         248\n",
       "DiabetesPedigreeFunction    517\n",
       "Age                          52\n",
       "dtype: int64"
      ]
     },
     "execution_count": 9,
     "metadata": {},
     "output_type": "execute_result"
    }
   ],
   "source": [
    "df[num_cols].nunique()"
   ]
  },
  {
   "cell_type": "code",
   "execution_count": 10,
   "id": "8e1c6292",
   "metadata": {},
   "outputs": [
    {
     "name": "stdout",
     "output_type": "stream",
     "text": [
      "   Outcome      Ratio\n",
      "0      500  65.104167\n",
      "1      268  34.895833\n"
     ]
    },
    {
     "data": {
      "image/png": "[encoded data removed]",
      "text/plain": [
       "<Figure size 432x288 with 1 Axes>"
      ]
     },
     "metadata": {
      "needs_background": "light"
     },
     "output_type": "display_data"
    }
   ],
   "source": [
    "print(pd.DataFrame({\"Outcome\": df[\"Outcome\"].value_counts(),\"Ratio\": 100 * df[\"Outcome\"].value_counts() / len(df)}))\n",
    "sns.countplot(x=df[\"Outcome\"], data=df)\n",
    "plt.show(block=True)"
   ]
  },
  {
   "cell_type": "code",
   "execution_count": 11,
   "id": "c9ad8575",
   "metadata": {},
   "outputs": [],
   "source": [
    "# Perform target variable analysis. (The mean of the target variable according to the categorical variables, mean of numerical variables)\n",
    "# There is no need for target analysis for categorical variables, as Outcome is the only categorical variable."
   ]
  },
  {
   "cell_type": "code",
   "execution_count": 12,
   "id": "0052aece",
   "metadata": {},
   "outputs": [
    {
     "name": "stdout",
     "output_type": "stream",
     "text": [
      "         Pregnancies\n",
      "Outcome             \n",
      "0           3.298000\n",
      "1           4.865672\n",
      "            Glucose\n",
      "Outcome            \n",
      "0        109.980000\n",
      "1        141.257463\n",
      "         BloodPressure\n",
      "Outcome               \n",
      "0            68.184000\n",
      "1            70.824627\n",
      "         SkinThickness\n",
      "Outcome               \n",
      "0            19.664000\n",
      "1            22.164179\n",
      "            Insulin\n",
      "Outcome            \n",
      "0         68.792000\n",
      "1        100.335821\n",
      "               BMI\n",
      "Outcome           \n",
      "0        30.304200\n",
      "1        35.142537\n",
      "         DiabetesPedigreeFunction\n",
      "Outcome                          \n",
      "0                        0.429734\n",
      "1                        0.550500\n",
      "               Age\n",
      "Outcome           \n",
      "0        31.190000\n",
      "1        37.067164\n"
     ]
    }
   ],
   "source": [
    "def target_summary_with_num(dataframe, target, numerical_col):\n",
    "    print(pd.DataFrame(dataframe.groupby(target).agg({numerical_col:\"mean\"})))\n",
    "\n",
    "for col in num_cols:\n",
    "    target_summary_with_num(df, \"Outcome\", col)"
   ]
  },
  {
   "cell_type": "code",
   "execution_count": 13,
   "id": "b59b4a63",
   "metadata": {},
   "outputs": [
    {
     "data": {
      "text/html": [
       "<div>\n",
       "<style scoped>\n",
       "    .dataframe tbody tr th:only-of-type {\n",
       "        vertical-align: middle;\n",
       "    }\n",
       "\n",
       "    .dataframe tbody tr th {\n",
       "        vertical-align: top;\n",
       "    }\n",
       "\n",
       "    .dataframe thead th {\n",
       "        text-align: right;\n",
       "    }\n",
       "</style>\n",
       "<table border=\"1\" class=\"dataframe\">\n",
       "  <thead>\n",
       "    <tr style=\"text-align: right;\">\n",
       "      <th></th>\n",
       "      <th>count</th>\n",
       "      <th>mean</th>\n",
       "      <th>std</th>\n",
       "      <th>min</th>\n",
       "      <th>5%</th>\n",
       "      <th>10%</th>\n",
       "      <th>20%</th>\n",
       "      <th>30%</th>\n",
       "      <th>40%</th>\n",
       "      <th>50%</th>\n",
       "      <th>60%</th>\n",
       "      <th>70%</th>\n",
       "      <th>80%</th>\n",
       "      <th>90%</th>\n",
       "      <th>95%</th>\n",
       "      <th>99%</th>\n",
       "      <th>max</th>\n",
       "    </tr>\n",
       "  </thead>\n",
       "  <tbody>\n",
       "    <tr>\n",
       "      <th>Pregnancies</th>\n",
       "      <td>768.0</td>\n",
       "      <td>3.845052</td>\n",
       "      <td>3.369578</td>\n",
       "      <td>0.000</td>\n",
       "      <td>0.00000</td>\n",
       "      <td>0.000</td>\n",
       "      <td>1.0000</td>\n",
       "      <td>1.000</td>\n",
       "      <td>2.0000</td>\n",
       "      <td>3.0000</td>\n",
       "      <td>4.0000</td>\n",
       "      <td>5.0000</td>\n",
       "      <td>7.000</td>\n",
       "      <td>9.0000</td>\n",
       "      <td>10.00000</td>\n",
       "      <td>13.00000</td>\n",
       "      <td>17.00</td>\n",
       "    </tr>\n",
       "    <tr>\n",
       "      <th>Glucose</th>\n",
       "      <td>768.0</td>\n",
       "      <td>120.894531</td>\n",
       "      <td>31.972618</td>\n",
       "      <td>0.000</td>\n",
       "      <td>79.00000</td>\n",
       "      <td>85.000</td>\n",
       "      <td>95.0000</td>\n",
       "      <td>102.000</td>\n",
       "      <td>109.0000</td>\n",
       "      <td>117.0000</td>\n",
       "      <td>125.0000</td>\n",
       "      <td>134.0000</td>\n",
       "      <td>147.000</td>\n",
       "      <td>167.0000</td>\n",
       "      <td>181.00000</td>\n",
       "      <td>196.00000</td>\n",
       "      <td>199.00</td>\n",
       "    </tr>\n",
       "    <tr>\n",
       "      <th>BloodPressure</th>\n",
       "      <td>768.0</td>\n",
       "      <td>69.105469</td>\n",
       "      <td>19.355807</td>\n",
       "      <td>0.000</td>\n",
       "      <td>38.70000</td>\n",
       "      <td>54.000</td>\n",
       "      <td>60.0000</td>\n",
       "      <td>64.000</td>\n",
       "      <td>68.0000</td>\n",
       "      <td>72.0000</td>\n",
       "      <td>74.0000</td>\n",
       "      <td>78.0000</td>\n",
       "      <td>82.000</td>\n",
       "      <td>88.0000</td>\n",
       "      <td>90.00000</td>\n",
       "      <td>106.00000</td>\n",
       "      <td>122.00</td>\n",
       "    </tr>\n",
       "    <tr>\n",
       "      <th>SkinThickness</th>\n",
       "      <td>768.0</td>\n",
       "      <td>20.536458</td>\n",
       "      <td>15.952218</td>\n",
       "      <td>0.000</td>\n",
       "      <td>0.00000</td>\n",
       "      <td>0.000</td>\n",
       "      <td>0.0000</td>\n",
       "      <td>8.200</td>\n",
       "      <td>18.0000</td>\n",
       "      <td>23.0000</td>\n",
       "      <td>27.0000</td>\n",
       "      <td>31.0000</td>\n",
       "      <td>35.000</td>\n",
       "      <td>40.0000</td>\n",
       "      <td>44.00000</td>\n",
       "      <td>51.33000</td>\n",
       "      <td>99.00</td>\n",
       "    </tr>\n",
       "    <tr>\n",
       "      <th>Insulin</th>\n",
       "      <td>768.0</td>\n",
       "      <td>79.799479</td>\n",
       "      <td>115.244002</td>\n",
       "      <td>0.000</td>\n",
       "      <td>0.00000</td>\n",
       "      <td>0.000</td>\n",
       "      <td>0.0000</td>\n",
       "      <td>0.000</td>\n",
       "      <td>0.0000</td>\n",
       "      <td>30.5000</td>\n",
       "      <td>72.2000</td>\n",
       "      <td>106.0000</td>\n",
       "      <td>150.000</td>\n",
       "      <td>210.0000</td>\n",
       "      <td>293.00000</td>\n",
       "      <td>519.90000</td>\n",
       "      <td>846.00</td>\n",
       "    </tr>\n",
       "    <tr>\n",
       "      <th>BMI</th>\n",
       "      <td>768.0</td>\n",
       "      <td>31.992578</td>\n",
       "      <td>7.884160</td>\n",
       "      <td>0.000</td>\n",
       "      <td>21.80000</td>\n",
       "      <td>23.600</td>\n",
       "      <td>25.9000</td>\n",
       "      <td>28.200</td>\n",
       "      <td>30.1000</td>\n",
       "      <td>32.0000</td>\n",
       "      <td>33.7000</td>\n",
       "      <td>35.4900</td>\n",
       "      <td>37.800</td>\n",
       "      <td>41.5000</td>\n",
       "      <td>44.39500</td>\n",
       "      <td>50.75900</td>\n",
       "      <td>67.10</td>\n",
       "    </tr>\n",
       "    <tr>\n",
       "      <th>DiabetesPedigreeFunction</th>\n",
       "      <td>768.0</td>\n",
       "      <td>0.471876</td>\n",
       "      <td>0.331329</td>\n",
       "      <td>0.078</td>\n",
       "      <td>0.14035</td>\n",
       "      <td>0.165</td>\n",
       "      <td>0.2194</td>\n",
       "      <td>0.259</td>\n",
       "      <td>0.3028</td>\n",
       "      <td>0.3725</td>\n",
       "      <td>0.4542</td>\n",
       "      <td>0.5637</td>\n",
       "      <td>0.687</td>\n",
       "      <td>0.8786</td>\n",
       "      <td>1.13285</td>\n",
       "      <td>1.69833</td>\n",
       "      <td>2.42</td>\n",
       "    </tr>\n",
       "    <tr>\n",
       "      <th>Age</th>\n",
       "      <td>768.0</td>\n",
       "      <td>33.240885</td>\n",
       "      <td>11.760232</td>\n",
       "      <td>21.000</td>\n",
       "      <td>21.00000</td>\n",
       "      <td>22.000</td>\n",
       "      <td>23.0000</td>\n",
       "      <td>25.000</td>\n",
       "      <td>27.0000</td>\n",
       "      <td>29.0000</td>\n",
       "      <td>33.0000</td>\n",
       "      <td>38.0000</td>\n",
       "      <td>42.600</td>\n",
       "      <td>51.0000</td>\n",
       "      <td>58.00000</td>\n",
       "      <td>67.00000</td>\n",
       "      <td>81.00</td>\n",
       "    </tr>\n",
       "  </tbody>\n",
       "</table>\n",
       "</div>"
      ],
      "text/plain": [
       "                          count        mean         std     min        5%  \\\n",
       "Pregnancies               768.0    3.845052    3.369578   0.000   0.00000   \n",
       "Glucose                   768.0  120.894531   31.972618   0.000  79.00000   \n",
       "BloodPressure             768.0   69.105469   19.355807   0.000  38.70000   \n",
       "SkinThickness             768.0   20.536458   15.952218   0.000   0.00000   \n",
       "Insulin                   768.0   79.799479  115.244002   0.000   0.00000   \n",
       "BMI                       768.0   31.992578    7.884160   0.000  21.80000   \n",
       "DiabetesPedigreeFunction  768.0    0.471876    0.331329   0.078   0.14035   \n",
       "Age                       768.0   33.240885   11.760232  21.000  21.00000   \n",
       "\n",
       "                             10%      20%      30%       40%       50%  \\\n",
       "Pregnancies                0.000   1.0000    1.000    2.0000    3.0000   \n",
       "Glucose                   85.000  95.0000  102.000  109.0000  117.0000   \n",
       "BloodPressure             54.000  60.0000   64.000   68.0000   72.0000   \n",
       "SkinThickness              0.000   0.0000    8.200   18.0000   23.0000   \n",
       "Insulin                    0.000   0.0000    0.000    0.0000   30.5000   \n",
       "BMI                       23.600  25.9000   28.200   30.1000   32.0000   \n",
       "DiabetesPedigreeFunction   0.165   0.2194    0.259    0.3028    0.3725   \n",
       "Age                       22.000  23.0000   25.000   27.0000   29.0000   \n",
       "\n",
       "                               60%       70%      80%       90%        95%  \\\n",
       "Pregnancies                 4.0000    5.0000    7.000    9.0000   10.00000   \n",
       "Glucose                   125.0000  134.0000  147.000  167.0000  181.00000   \n",
       "BloodPressure              74.0000   78.0000   82.000   88.0000   90.00000   \n",
       "SkinThickness              27.0000   31.0000   35.000   40.0000   44.00000   \n",
       "Insulin                    72.2000  106.0000  150.000  210.0000  293.00000   \n",
       "BMI                        33.7000   35.4900   37.800   41.5000   44.39500   \n",
       "DiabetesPedigreeFunction    0.4542    0.5637    0.687    0.8786    1.13285   \n",
       "Age                        33.0000   38.0000   42.600   51.0000   58.00000   \n",
       "\n",
       "                                99%     max  \n",
       "Pregnancies                13.00000   17.00  \n",
       "Glucose                   196.00000  199.00  \n",
       "BloodPressure             106.00000  122.00  \n",
       "SkinThickness              51.33000   99.00  \n",
       "Insulin                   519.90000  846.00  \n",
       "BMI                        50.75900   67.10  \n",
       "DiabetesPedigreeFunction    1.69833    2.42  \n",
       "Age                        67.00000   81.00  "
      ]
     },
     "execution_count": 13,
     "metadata": {},
     "output_type": "execute_result"
    }
   ],
   "source": [
    "# Analysis Of Numerical Variables\n",
    "quantiles = [0.05, 0.10, 0.20, 0.30, 0.40, 0.50, 0.60, 0.70, 0.80, 0.90, 0.95, 0.99]\n",
    "df[num_cols].describe(quantiles).T"
   ]
  },
  {
   "cell_type": "code",
   "execution_count": 14,
   "id": "9f67e59f",
   "metadata": {},
   "outputs": [
    {
     "name": "stdout",
     "output_type": "stream",
     "text": [
      "count    768.000000\n",
      "mean       3.845052\n",
      "std        3.369578\n",
      "min        0.000000\n",
      "5%         0.000000\n",
      "10%        0.000000\n",
      "20%        1.000000\n",
      "30%        1.000000\n",
      "40%        2.000000\n",
      "50%        3.000000\n",
      "60%        4.000000\n",
      "70%        5.000000\n",
      "80%        7.000000\n",
      "90%        9.000000\n",
      "95%       10.000000\n",
      "99%       13.000000\n",
      "max       17.000000\n",
      "Name: Pregnancies, dtype: float64\n"
     ]
    },
    {
     "data": {
      "image/png": "[encoded data removed]",
      "text/plain": [
       "<Figure size 432x288 with 1 Axes>"
      ]
     },
     "metadata": {
      "needs_background": "light"
     },
     "output_type": "display_data"
    },
    {
     "name": "stdout",
     "output_type": "stream",
     "text": [
      "count    768.000000\n",
      "mean     120.894531\n",
      "std       31.972618\n",
      "min        0.000000\n",
      "5%        79.000000\n",
      "10%       85.000000\n",
      "20%       95.000000\n",
      "30%      102.000000\n",
      "40%      109.000000\n",
      "50%      117.000000\n",
      "60%      125.000000\n",
      "70%      134.000000\n",
      "80%      147.000000\n",
      "90%      167.000000\n",
      "95%      181.000000\n",
      "99%      196.000000\n",
      "max      199.000000\n",
      "Name: Glucose, dtype: float64\n"
     ]
    },
    {
     "data": {
      "image/png": "[encoded data removed]",
      "text/plain": [
       "<Figure size 432x288 with 1 Axes>"
      ]
     },
     "metadata": {
      "needs_background": "light"
     },
     "output_type": "display_data"
    },
    {
     "name": "stdout",
     "output_type": "stream",
     "text": [
      "count    768.000000\n",
      "mean      69.105469\n",
      "std       19.355807\n",
      "min        0.000000\n",
      "5%        38.700000\n",
      "10%       54.000000\n",
      "20%       60.000000\n",
      "30%       64.000000\n",
      "40%       68.000000\n",
      "50%       72.000000\n",
      "60%       74.000000\n",
      "70%       78.000000\n",
      "80%       82.000000\n",
      "90%       88.000000\n",
      "95%       90.000000\n",
      "99%      106.000000\n",
      "max      122.000000\n",
      "Name: BloodPressure, dtype: float64\n"
     ]
    },
    {
     "data": {
      "image/png": "[encoded data removed]",
      "text/plain": [
       "<Figure size 432x288 with 1 Axes>"
      ]
     },
     "metadata": {
      "needs_background": "light"
     },
     "output_type": "display_data"
    },
    {
     "name": "stdout",
     "output_type": "stream",
     "text": [
      "count    768.000000\n",
      "mean      20.536458\n",
      "std       15.952218\n",
      "min        0.000000\n",
      "5%         0.000000\n",
      "10%        0.000000\n",
      "20%        0.000000\n",
      "30%        8.200000\n",
      "40%       18.000000\n",
      "50%       23.000000\n",
      "60%       27.000000\n",
      "70%       31.000000\n",
      "80%       35.000000\n",
      "90%       40.000000\n",
      "95%       44.000000\n",
      "99%       51.330000\n",
      "max       99.000000\n",
      "Name: SkinThickness, dtype: float64\n"
     ]
    },
    {
     "data": {
      "image/png": "[encoded data removed]",
      "text/plain": [
       "<Figure size 432x288 with 1 Axes>"
      ]
     },
     "metadata": {
      "needs_background": "light"
     },
     "output_type": "display_data"
    },
    {
     "name": "stdout",
     "output_type": "stream",
     "text": [
      "count    768.000000\n",
      "mean      79.799479\n",
      "std      115.244002\n",
      "min        0.000000\n",
      "5%         0.000000\n",
      "10%        0.000000\n",
      "20%        0.000000\n",
      "30%        0.000000\n",
      "40%        0.000000\n",
      "50%       30.500000\n",
      "60%       72.200000\n",
      "70%      106.000000\n",
      "80%      150.000000\n",
      "90%      210.000000\n",
      "95%      293.000000\n",
      "99%      519.900000\n",
      "max      846.000000\n",
      "Name: Insulin, dtype: float64\n"
     ]
    },
    {
     "data": {
      "image/png": "[encoded data removed]",
      "text/plain": [
       "<Figure size 432x288 with 1 Axes>"
      ]
     },
     "metadata": {
      "needs_background": "light"
     },
     "output_type": "display_data"
    },
    {
     "name": "stdout",
     "output_type": "stream",
     "text": [
      "count    768.000000\n",
      "mean      31.992578\n",
      "std        7.884160\n",
      "min        0.000000\n",
      "5%        21.800000\n",
      "10%       23.600000\n",
      "20%       25.900000\n",
      "30%       28.200000\n",
      "40%       30.100000\n",
      "50%       32.000000\n",
      "60%       33.700000\n",
      "70%       35.490000\n",
      "80%       37.800000\n",
      "90%       41.500000\n",
      "95%       44.395000\n",
      "99%       50.759000\n",
      "max       67.100000\n",
      "Name: BMI, dtype: float64\n"
     ]
    },
    {
     "data": {
      "image/png": "[encoded data removed]",
      "text/plain": [
       "<Figure size 432x288 with 1 Axes>"
      ]
     },
     "metadata": {
      "needs_background": "light"
     },
     "output_type": "display_data"
    },
    {
     "name": "stdout",
     "output_type": "stream",
     "text": [
      "count    768.000000\n",
      "mean       0.471876\n",
      "std        0.331329\n",
      "min        0.078000\n",
      "5%         0.140350\n",
      "10%        0.165000\n",
      "20%        0.219400\n",
      "30%        0.259000\n",
      "40%        0.302800\n",
      "50%        0.372500\n",
      "60%        0.454200\n",
      "70%        0.563700\n",
      "80%        0.687000\n",
      "90%        0.878600\n",
      "95%        1.132850\n",
      "99%        1.698330\n",
      "max        2.420000\n",
      "Name: DiabetesPedigreeFunction, dtype: float64\n"
     ]
    },
    {
     "data": {
      "image/png": "[encoded data removed]",
      "text/plain": [
       "<Figure size 432x288 with 1 Axes>"
      ]
     },
     "metadata": {
      "needs_background": "light"
     },
     "output_type": "display_data"
    },
    {
     "name": "stdout",
     "output_type": "stream",
     "text": [
      "count    768.000000\n",
      "mean      33.240885\n",
      "std       11.760232\n",
      "min       21.000000\n",
      "5%        21.000000\n",
      "10%       22.000000\n",
      "20%       23.000000\n",
      "30%       25.000000\n",
      "40%       27.000000\n",
      "50%       29.000000\n",
      "60%       33.000000\n",
      "70%       38.000000\n",
      "80%       42.600000\n",
      "90%       51.000000\n",
      "95%       58.000000\n",
      "99%       67.000000\n",
      "max       81.000000\n",
      "Name: Age, dtype: float64\n"
     ]
    },
    {
     "data": {
      "image/png": "[encoded data removed]",
      "text/plain": [
       "<Figure size 432x288 with 1 Axes>"
      ]
     },
     "metadata": {
      "needs_background": "light"
     },
     "output_type": "display_data"
    }
   ],
   "source": [
    "# Analysis Of Numerical Variables PLOT\n",
    "def num_summary(dataframe, numerical_col, plot=False):\n",
    "    quantiles = [0.05, 0.10, 0.20, 0.30, 0.40, 0.50, 0.60, 0.70, 0.80, 0.90, 0.95, 0.99]\n",
    "    print(dataframe[numerical_col].describe(quantiles).T)\n",
    "    if plot:\n",
    "        dataframe[numerical_col].hist(bins=20)\n",
    "        plt.xlabel(numerical_col)\n",
    "        plt.title(numerical_col)\n",
    "        plt.show()\n",
    "        \n",
    "        \n",
    "for col in num_cols:\n",
    "    num_summary(df, col, plot=True)"
   ]
  },
  {
   "cell_type": "code",
   "execution_count": 15,
   "id": "522262d5",
   "metadata": {},
   "outputs": [
    {
     "data": {
      "image/png": "[encoded data removed]",
      "text/plain": [
       "<Figure size 1296x936 with 2 Axes>"
      ]
     },
     "metadata": {
      "needs_background": "light"
     },
     "output_type": "display_data"
    }
   ],
   "source": [
    "df.corr()\n",
    "\n",
    "# Correlation Matrix\n",
    "\n",
    "f, ax = plt.subplots(figsize=[18, 13])\n",
    "sns.heatmap(df.corr(), annot=True, fmt=\".2f\", ax=ax, cmap=\"magma\")\n",
    "ax.set_title(\"Correlation Matrix\", fontsize=20)\n",
    "plt.show()"
   ]
  },
  {
   "cell_type": "code",
   "execution_count": 16,
   "id": "669b532e",
   "metadata": {},
   "outputs": [
    {
     "data": {
      "text/plain": [
       "['Glucose', 'BloodPressure', 'SkinThickness', 'Insulin', 'BMI']"
      ]
     },
     "execution_count": 16,
     "metadata": {},
     "output_type": "execute_result"
    }
   ],
   "source": [
    "# Finding Missing Values\n",
    "zero_columns = [col for col in df.columns if (df[col].min() == 0 and col not in [\"Pregnancies\", \"Outcome\"])]\n",
    "zero_columns"
   ]
  },
  {
   "cell_type": "code",
   "execution_count": 17,
   "id": "ba47b533",
   "metadata": {},
   "outputs": [],
   "source": [
    "# Assigning Missing Values to NaN\n",
    "for col in zero_columns:\n",
    "    df[col] = np.where(df[col] == 0, np.nan, df[col])"
   ]
  },
  {
   "cell_type": "code",
   "execution_count": 18,
   "id": "38c063f1",
   "metadata": {},
   "outputs": [
    {
     "data": {
      "text/plain": [
       "Pregnancies                   0\n",
       "Glucose                       5\n",
       "BloodPressure                35\n",
       "SkinThickness               227\n",
       "Insulin                     374\n",
       "BMI                          11\n",
       "DiabetesPedigreeFunction      0\n",
       "Age                           0\n",
       "Outcome                       0\n",
       "dtype: int64"
      ]
     },
     "execution_count": 18,
     "metadata": {},
     "output_type": "execute_result"
    }
   ],
   "source": [
    "# Missing Values\n",
    "df.isnull().sum()"
   ]
  },
  {
   "cell_type": "code",
   "execution_count": 19,
   "id": "49f559a3",
   "metadata": {},
   "outputs": [
    {
     "data": {
      "text/plain": [
       "Pregnancies                 0\n",
       "Glucose                     0\n",
       "BloodPressure               0\n",
       "SkinThickness               0\n",
       "Insulin                     0\n",
       "BMI                         0\n",
       "DiabetesPedigreeFunction    0\n",
       "Age                         0\n",
       "Outcome                     0\n",
       "dtype: int64"
      ]
     },
     "execution_count": 19,
     "metadata": {},
     "output_type": "execute_result"
    }
   ],
   "source": [
    "# Filling Missing Values with Median\n",
    "for col in zero_columns:\n",
    "    df.loc[df[col].isnull(), col] = df[col].median()\n",
    "\n",
    "df.isnull().sum()"
   ]
  },
  {
   "cell_type": "code",
   "execution_count": 20,
   "id": "00a19fc3",
   "metadata": {},
   "outputs": [
    {
     "name": "stdout",
     "output_type": "stream",
     "text": [
      "Column:  Pregnancies\n",
      "Low:  -15.0\n",
      "Up:  25.0 \n",
      "\n",
      "Column:  Glucose\n",
      "Low:  -71.5\n",
      "Up:  332.5 \n",
      "\n",
      "Column:  BloodPressure\n",
      "Low:  -5.0\n",
      "Up:  147.0 \n",
      "\n",
      "Column:  SkinThickness\n",
      "Low:  -30.124999999999993\n",
      "Up:  88.475 \n",
      "\n",
      "Column:  Insulin\n",
      "Low:  -314.5\n",
      "Up:  657.5 \n",
      "\n",
      "Column:  BMI\n",
      "Low:  -11.004999999999995\n",
      "Up:  77.63499999999999 \n",
      "\n",
      "Column:  DiabetesPedigreeFunction\n",
      "Low:  -1.3483999999999996\n",
      "Up:  2.621599999999999 \n",
      "\n",
      "Column:  Age\n",
      "Low:  -34.5\n",
      "Up:  113.5 \n",
      "\n",
      "Column:  Outcome\n",
      "Low:  -1.5\n",
      "Up:  2.5 \n",
      "\n"
     ]
    }
   ],
   "source": [
    "# Outlier Analysis\n",
    "def outlier_thresholds(dataframe, col_name, q1=0.05, q3=0.95):\n",
    "    quartile1 = dataframe[col_name].quantile(q1)\n",
    "    quartile3 = dataframe[col_name].quantile(q3)\n",
    "    interquantile_range = quartile3 - quartile1\n",
    "    up_limit = quartile3 + 1.5 * interquantile_range\n",
    "    low_limit = quartile1 - 1.5 * interquantile_range\n",
    "    return low_limit, up_limit\n",
    "\n",
    "for col in df.columns:\n",
    "    low, up = outlier_thresholds(df, col)\n",
    "    print(\"Column: \",col)\n",
    "    print(\"Low: \",low)\n",
    "    print(\"Up: \",up,\"\\n\")"
   ]
  },
  {
   "cell_type": "code",
   "execution_count": 21,
   "id": "93229a07",
   "metadata": {},
   "outputs": [
    {
     "name": "stdout",
     "output_type": "stream",
     "text": [
      "Columns with Outlier\n",
      "\n",
      "SkinThickness\n",
      "Insulin\n"
     ]
    }
   ],
   "source": [
    "# Is there an Outlier or not?\n",
    "def check_outlier(dataframe, col_name):\n",
    "    low, up = outlier_thresholds(dataframe, col_name)\n",
    "    if dataframe[(dataframe[col_name] < low) | (dataframe[col_name] > up)].any(axis=None):\n",
    "        return True\n",
    "    else:\n",
    "        return False\n",
    "print(\"Columns with Outlier\\n\")\n",
    "for col in df.columns:\n",
    "    if check_outlier(df, col):\n",
    "        print(col)"
   ]
  },
  {
   "cell_type": "code",
   "execution_count": 22,
   "id": "d7aa74dc",
   "metadata": {},
   "outputs": [
    {
     "name": "stdout",
     "output_type": "stream",
     "text": [
      "Pregnancies : False \n",
      "\n",
      "Glucose : False \n",
      "\n",
      "BloodPressure : False \n",
      "\n",
      "SkinThickness : False \n",
      "\n",
      "Insulin : False \n",
      "\n",
      "BMI : False \n",
      "\n",
      "DiabetesPedigreeFunction : False \n",
      "\n",
      "Age : False \n",
      "\n",
      "Outcome : False \n",
      "\n"
     ]
    }
   ],
   "source": [
    "def replace_with_thresholds(dataframe, variable, q1=0.05, q3=0.95):\n",
    "    low_limit, up_limit = outlier_thresholds(dataframe, variable, q1=0.05, q3=0.95)\n",
    "    dataframe.loc[(dataframe[variable] < low_limit), variable] = low_limit\n",
    "    dataframe.loc[(dataframe[variable] > up_limit), variable] = up_limit\n",
    "    \n",
    "for col in df.columns:\n",
    "    if check_outlier(df, col):\n",
    "        replace_with_thresholds(df, col)\n",
    "        \n",
    "for col in df.columns:\n",
    "    print(col, \":\", check_outlier(df, col),\"\\n\")\n",
    "    "
   ]
  },
  {
   "cell_type": "code",
   "execution_count": 23,
   "id": "34f9eb8b",
   "metadata": {},
   "outputs": [
    {
     "data": {
      "text/html": [
       "<div>\n",
       "<style scoped>\n",
       "    .dataframe tbody tr th:only-of-type {\n",
       "        vertical-align: middle;\n",
       "    }\n",
       "\n",
       "    .dataframe tbody tr th {\n",
       "        vertical-align: top;\n",
       "    }\n",
       "\n",
       "    .dataframe thead th {\n",
       "        text-align: right;\n",
       "    }\n",
       "</style>\n",
       "<table border=\"1\" class=\"dataframe\">\n",
       "  <thead>\n",
       "    <tr style=\"text-align: right;\">\n",
       "      <th></th>\n",
       "      <th>Pregnancies</th>\n",
       "      <th>Glucose</th>\n",
       "      <th>BloodPressure</th>\n",
       "      <th>SkinThickness</th>\n",
       "      <th>Insulin</th>\n",
       "      <th>BMI</th>\n",
       "      <th>DiabetesPedigreeFunction</th>\n",
       "      <th>Age</th>\n",
       "      <th>Outcome</th>\n",
       "      <th>Age_Group</th>\n",
       "    </tr>\n",
       "  </thead>\n",
       "  <tbody>\n",
       "    <tr>\n",
       "      <th>0</th>\n",
       "      <td>6</td>\n",
       "      <td>148.0</td>\n",
       "      <td>72.0</td>\n",
       "      <td>35.0</td>\n",
       "      <td>125.0</td>\n",
       "      <td>33.6</td>\n",
       "      <td>0.627</td>\n",
       "      <td>50</td>\n",
       "      <td>1</td>\n",
       "      <td>Middle Age</td>\n",
       "    </tr>\n",
       "    <tr>\n",
       "      <th>1</th>\n",
       "      <td>1</td>\n",
       "      <td>85.0</td>\n",
       "      <td>66.0</td>\n",
       "      <td>29.0</td>\n",
       "      <td>125.0</td>\n",
       "      <td>26.6</td>\n",
       "      <td>0.351</td>\n",
       "      <td>31</td>\n",
       "      <td>0</td>\n",
       "      <td>Young Age</td>\n",
       "    </tr>\n",
       "    <tr>\n",
       "      <th>2</th>\n",
       "      <td>8</td>\n",
       "      <td>183.0</td>\n",
       "      <td>64.0</td>\n",
       "      <td>29.0</td>\n",
       "      <td>125.0</td>\n",
       "      <td>23.3</td>\n",
       "      <td>0.672</td>\n",
       "      <td>32</td>\n",
       "      <td>1</td>\n",
       "      <td>Young Age</td>\n",
       "    </tr>\n",
       "    <tr>\n",
       "      <th>3</th>\n",
       "      <td>1</td>\n",
       "      <td>89.0</td>\n",
       "      <td>66.0</td>\n",
       "      <td>23.0</td>\n",
       "      <td>94.0</td>\n",
       "      <td>28.1</td>\n",
       "      <td>0.167</td>\n",
       "      <td>21</td>\n",
       "      <td>0</td>\n",
       "      <td>Young Age</td>\n",
       "    </tr>\n",
       "    <tr>\n",
       "      <th>4</th>\n",
       "      <td>0</td>\n",
       "      <td>137.0</td>\n",
       "      <td>40.0</td>\n",
       "      <td>35.0</td>\n",
       "      <td>168.0</td>\n",
       "      <td>43.1</td>\n",
       "      <td>2.288</td>\n",
       "      <td>33</td>\n",
       "      <td>1</td>\n",
       "      <td>Young Age</td>\n",
       "    </tr>\n",
       "  </tbody>\n",
       "</table>\n",
       "</div>"
      ],
      "text/plain": [
       "   Pregnancies  Glucose  BloodPressure  SkinThickness  Insulin   BMI  \\\n",
       "0            6    148.0           72.0           35.0    125.0  33.6   \n",
       "1            1     85.0           66.0           29.0    125.0  26.6   \n",
       "2            8    183.0           64.0           29.0    125.0  23.3   \n",
       "3            1     89.0           66.0           23.0     94.0  28.1   \n",
       "4            0    137.0           40.0           35.0    168.0  43.1   \n",
       "\n",
       "   DiabetesPedigreeFunction  Age  Outcome   Age_Group  \n",
       "0                     0.627   50        1  Middle Age  \n",
       "1                     0.351   31        0   Young Age  \n",
       "2                     0.672   32        1   Young Age  \n",
       "3                     0.167   21        0   Young Age  \n",
       "4                     2.288   33        1   Young Age  "
      ]
     },
     "execution_count": 23,
     "metadata": {},
     "output_type": "execute_result"
    }
   ],
   "source": [
    "# Creating new variables\n",
    "# Age Periods Of Human Life\n",
    "df.loc[(df[\"Age\"] >= 21) & (df[\"Age\"] < 44), \"Age_Group\"] = \"Young Age\"\n",
    "df.loc[(df[\"Age\"] >= 44) & (df[\"Age\"] < 60), \"Age_Group\"] = \"Middle Age\"\n",
    "df.loc[(df[\"Age\"] >= 60) & (df[\"Age\"] < 75), \"Age_Group\"] = \"Elderly Age\"\n",
    "df.loc[(df[\"Age\"] >= 75) & (df[\"Age\"] < 90), \"Age_Group\"] = \"Senile  Age\"\n",
    "df.loc[(df[\"Age\"] >= 90), \"Age_Group\"] = \"Long-Rivers\"\n",
    "df.head()"
   ]
  },
  {
   "cell_type": "code",
   "execution_count": 24,
   "id": "9f5fa0d8",
   "metadata": {},
   "outputs": [
    {
     "data": {
      "text/html": [
       "<div>\n",
       "<style scoped>\n",
       "    .dataframe tbody tr th:only-of-type {\n",
       "        vertical-align: middle;\n",
       "    }\n",
       "\n",
       "    .dataframe tbody tr th {\n",
       "        vertical-align: top;\n",
       "    }\n",
       "\n",
       "    .dataframe thead th {\n",
       "        text-align: right;\n",
       "    }\n",
       "</style>\n",
       "<table border=\"1\" class=\"dataframe\">\n",
       "  <thead>\n",
       "    <tr style=\"text-align: right;\">\n",
       "      <th></th>\n",
       "      <th>Pregnancies</th>\n",
       "      <th>Glucose</th>\n",
       "      <th>BloodPressure</th>\n",
       "      <th>SkinThickness</th>\n",
       "      <th>Insulin</th>\n",
       "      <th>BMI</th>\n",
       "      <th>DiabetesPedigreeFunction</th>\n",
       "      <th>Age</th>\n",
       "      <th>Outcome</th>\n",
       "      <th>Age_Group</th>\n",
       "      <th>BMI_Categories</th>\n",
       "    </tr>\n",
       "  </thead>\n",
       "  <tbody>\n",
       "    <tr>\n",
       "      <th>0</th>\n",
       "      <td>6</td>\n",
       "      <td>148.0</td>\n",
       "      <td>72.0</td>\n",
       "      <td>35.0</td>\n",
       "      <td>125.0</td>\n",
       "      <td>33.6</td>\n",
       "      <td>0.627</td>\n",
       "      <td>50</td>\n",
       "      <td>1</td>\n",
       "      <td>Middle Age</td>\n",
       "      <td>Obesity</td>\n",
       "    </tr>\n",
       "    <tr>\n",
       "      <th>1</th>\n",
       "      <td>1</td>\n",
       "      <td>85.0</td>\n",
       "      <td>66.0</td>\n",
       "      <td>29.0</td>\n",
       "      <td>125.0</td>\n",
       "      <td>26.6</td>\n",
       "      <td>0.351</td>\n",
       "      <td>31</td>\n",
       "      <td>0</td>\n",
       "      <td>Young Age</td>\n",
       "      <td>Overweight</td>\n",
       "    </tr>\n",
       "    <tr>\n",
       "      <th>2</th>\n",
       "      <td>8</td>\n",
       "      <td>183.0</td>\n",
       "      <td>64.0</td>\n",
       "      <td>29.0</td>\n",
       "      <td>125.0</td>\n",
       "      <td>23.3</td>\n",
       "      <td>0.672</td>\n",
       "      <td>32</td>\n",
       "      <td>1</td>\n",
       "      <td>Young Age</td>\n",
       "      <td>Normal weight</td>\n",
       "    </tr>\n",
       "    <tr>\n",
       "      <th>3</th>\n",
       "      <td>1</td>\n",
       "      <td>89.0</td>\n",
       "      <td>66.0</td>\n",
       "      <td>23.0</td>\n",
       "      <td>94.0</td>\n",
       "      <td>28.1</td>\n",
       "      <td>0.167</td>\n",
       "      <td>21</td>\n",
       "      <td>0</td>\n",
       "      <td>Young Age</td>\n",
       "      <td>Overweight</td>\n",
       "    </tr>\n",
       "    <tr>\n",
       "      <th>4</th>\n",
       "      <td>0</td>\n",
       "      <td>137.0</td>\n",
       "      <td>40.0</td>\n",
       "      <td>35.0</td>\n",
       "      <td>168.0</td>\n",
       "      <td>43.1</td>\n",
       "      <td>2.288</td>\n",
       "      <td>33</td>\n",
       "      <td>1</td>\n",
       "      <td>Young Age</td>\n",
       "      <td>Obesity</td>\n",
       "    </tr>\n",
       "  </tbody>\n",
       "</table>\n",
       "</div>"
      ],
      "text/plain": [
       "   Pregnancies  Glucose  BloodPressure  SkinThickness  Insulin   BMI  \\\n",
       "0            6    148.0           72.0           35.0    125.0  33.6   \n",
       "1            1     85.0           66.0           29.0    125.0  26.6   \n",
       "2            8    183.0           64.0           29.0    125.0  23.3   \n",
       "3            1     89.0           66.0           23.0     94.0  28.1   \n",
       "4            0    137.0           40.0           35.0    168.0  43.1   \n",
       "\n",
       "   DiabetesPedigreeFunction  Age  Outcome   Age_Group BMI_Categories  \n",
       "0                     0.627   50        1  Middle Age        Obesity  \n",
       "1                     0.351   31        0   Young Age     Overweight  \n",
       "2                     0.672   32        1   Young Age  Normal weight  \n",
       "3                     0.167   21        0   Young Age     Overweight  \n",
       "4                     2.288   33        1   Young Age        Obesity  "
      ]
     },
     "execution_count": 24,
     "metadata": {},
     "output_type": "execute_result"
    }
   ],
   "source": [
    "# BMI Categories\n",
    "df.loc[(df[\"BMI\"] < 18.6), \"BMI_Categories\"] = \"Underweight\"\n",
    "df.loc[(df[\"BMI\"] >= 18.6) & (df[\"BMI\"] < 25), \"BMI_Categories\"] = \"Normal weight\"\n",
    "df.loc[(df[\"BMI\"] >= 25) & (df[\"BMI\"] < 30), \"BMI_Categories\"] = \"Overweight\"\n",
    "df.loc[(df[\"BMI\"] >= 30), \"BMI_Categories\"] = \"Obesity\"\n",
    "df.head()"
   ]
  },
  {
   "cell_type": "code",
   "execution_count": 25,
   "id": "0455180e",
   "metadata": {},
   "outputs": [
    {
     "data": {
      "text/html": [
       "<div>\n",
       "<style scoped>\n",
       "    .dataframe tbody tr th:only-of-type {\n",
       "        vertical-align: middle;\n",
       "    }\n",
       "\n",
       "    .dataframe tbody tr th {\n",
       "        vertical-align: top;\n",
       "    }\n",
       "\n",
       "    .dataframe thead th {\n",
       "        text-align: right;\n",
       "    }\n",
       "</style>\n",
       "<table border=\"1\" class=\"dataframe\">\n",
       "  <thead>\n",
       "    <tr style=\"text-align: right;\">\n",
       "      <th></th>\n",
       "      <th>Pregnancies</th>\n",
       "      <th>Glucose</th>\n",
       "      <th>BloodPressure</th>\n",
       "      <th>SkinThickness</th>\n",
       "      <th>Insulin</th>\n",
       "      <th>BMI</th>\n",
       "      <th>DiabetesPedigreeFunction</th>\n",
       "      <th>Age</th>\n",
       "      <th>Outcome</th>\n",
       "      <th>Age_Group</th>\n",
       "      <th>BMI_Categories</th>\n",
       "      <th>Insulin_Level</th>\n",
       "    </tr>\n",
       "  </thead>\n",
       "  <tbody>\n",
       "    <tr>\n",
       "      <th>0</th>\n",
       "      <td>6</td>\n",
       "      <td>148.0</td>\n",
       "      <td>72.0</td>\n",
       "      <td>35.0</td>\n",
       "      <td>125.0</td>\n",
       "      <td>33.6</td>\n",
       "      <td>0.627</td>\n",
       "      <td>50</td>\n",
       "      <td>1</td>\n",
       "      <td>Middle Age</td>\n",
       "      <td>Obesity</td>\n",
       "      <td>Normal</td>\n",
       "    </tr>\n",
       "    <tr>\n",
       "      <th>1</th>\n",
       "      <td>1</td>\n",
       "      <td>85.0</td>\n",
       "      <td>66.0</td>\n",
       "      <td>29.0</td>\n",
       "      <td>125.0</td>\n",
       "      <td>26.6</td>\n",
       "      <td>0.351</td>\n",
       "      <td>31</td>\n",
       "      <td>0</td>\n",
       "      <td>Young Age</td>\n",
       "      <td>Overweight</td>\n",
       "      <td>Normal</td>\n",
       "    </tr>\n",
       "    <tr>\n",
       "      <th>2</th>\n",
       "      <td>8</td>\n",
       "      <td>183.0</td>\n",
       "      <td>64.0</td>\n",
       "      <td>29.0</td>\n",
       "      <td>125.0</td>\n",
       "      <td>23.3</td>\n",
       "      <td>0.672</td>\n",
       "      <td>32</td>\n",
       "      <td>1</td>\n",
       "      <td>Young Age</td>\n",
       "      <td>Normal weight</td>\n",
       "      <td>Normal</td>\n",
       "    </tr>\n",
       "    <tr>\n",
       "      <th>3</th>\n",
       "      <td>1</td>\n",
       "      <td>89.0</td>\n",
       "      <td>66.0</td>\n",
       "      <td>23.0</td>\n",
       "      <td>94.0</td>\n",
       "      <td>28.1</td>\n",
       "      <td>0.167</td>\n",
       "      <td>21</td>\n",
       "      <td>0</td>\n",
       "      <td>Young Age</td>\n",
       "      <td>Overweight</td>\n",
       "      <td>Normal</td>\n",
       "    </tr>\n",
       "    <tr>\n",
       "      <th>4</th>\n",
       "      <td>0</td>\n",
       "      <td>137.0</td>\n",
       "      <td>40.0</td>\n",
       "      <td>35.0</td>\n",
       "      <td>168.0</td>\n",
       "      <td>43.1</td>\n",
       "      <td>2.288</td>\n",
       "      <td>33</td>\n",
       "      <td>1</td>\n",
       "      <td>Young Age</td>\n",
       "      <td>Obesity</td>\n",
       "      <td>High</td>\n",
       "    </tr>\n",
       "  </tbody>\n",
       "</table>\n",
       "</div>"
      ],
      "text/plain": [
       "   Pregnancies  Glucose  BloodPressure  SkinThickness  Insulin   BMI  \\\n",
       "0            6    148.0           72.0           35.0    125.0  33.6   \n",
       "1            1     85.0           66.0           29.0    125.0  26.6   \n",
       "2            8    183.0           64.0           29.0    125.0  23.3   \n",
       "3            1     89.0           66.0           23.0     94.0  28.1   \n",
       "4            0    137.0           40.0           35.0    168.0  43.1   \n",
       "\n",
       "   DiabetesPedigreeFunction  Age  Outcome   Age_Group BMI_Categories  \\\n",
       "0                     0.627   50        1  Middle Age        Obesity   \n",
       "1                     0.351   31        0   Young Age     Overweight   \n",
       "2                     0.672   32        1   Young Age  Normal weight   \n",
       "3                     0.167   21        0   Young Age     Overweight   \n",
       "4                     2.288   33        1   Young Age        Obesity   \n",
       "\n",
       "  Insulin_Level  \n",
       "0        Normal  \n",
       "1        Normal  \n",
       "2        Normal  \n",
       "3        Normal  \n",
       "4          High  "
      ]
     },
     "execution_count": 25,
     "metadata": {},
     "output_type": "execute_result"
    }
   ],
   "source": [
    "# Insulin Level\n",
    "df.loc[(df[\"Insulin\"] >= 16) & (df[\"Insulin\"] <= 166), \"Insulin_Level\"] = \"Normal\"\n",
    "df.loc[(df[\"Insulin\"] > 166), \"Insulin_Level\"] = \"High\"\n",
    "df.head()"
   ]
  },
  {
   "cell_type": "code",
   "execution_count": 26,
   "id": "a6b01425",
   "metadata": {},
   "outputs": [
    {
     "data": {
      "text/html": [
       "<div>\n",
       "<style scoped>\n",
       "    .dataframe tbody tr th:only-of-type {\n",
       "        vertical-align: middle;\n",
       "    }\n",
       "\n",
       "    .dataframe tbody tr th {\n",
       "        vertical-align: top;\n",
       "    }\n",
       "\n",
       "    .dataframe thead th {\n",
       "        text-align: right;\n",
       "    }\n",
       "</style>\n",
       "<table border=\"1\" class=\"dataframe\">\n",
       "  <thead>\n",
       "    <tr style=\"text-align: right;\">\n",
       "      <th></th>\n",
       "      <th>Pregnancies</th>\n",
       "      <th>Glucose</th>\n",
       "      <th>BloodPressure</th>\n",
       "      <th>SkinThickness</th>\n",
       "      <th>Insulin</th>\n",
       "      <th>BMI</th>\n",
       "      <th>DiabetesPedigreeFunction</th>\n",
       "      <th>Age</th>\n",
       "      <th>Outcome</th>\n",
       "      <th>Age_Group</th>\n",
       "      <th>BMI_Categories</th>\n",
       "      <th>Insulin_Level</th>\n",
       "      <th>Blood_Pressure</th>\n",
       "    </tr>\n",
       "  </thead>\n",
       "  <tbody>\n",
       "    <tr>\n",
       "      <th>0</th>\n",
       "      <td>6</td>\n",
       "      <td>148.0</td>\n",
       "      <td>72.0</td>\n",
       "      <td>35.0</td>\n",
       "      <td>125.0</td>\n",
       "      <td>33.6</td>\n",
       "      <td>0.627</td>\n",
       "      <td>50</td>\n",
       "      <td>1</td>\n",
       "      <td>Middle Age</td>\n",
       "      <td>Obesity</td>\n",
       "      <td>Normal</td>\n",
       "      <td>Normal</td>\n",
       "    </tr>\n",
       "    <tr>\n",
       "      <th>1</th>\n",
       "      <td>1</td>\n",
       "      <td>85.0</td>\n",
       "      <td>66.0</td>\n",
       "      <td>29.0</td>\n",
       "      <td>125.0</td>\n",
       "      <td>26.6</td>\n",
       "      <td>0.351</td>\n",
       "      <td>31</td>\n",
       "      <td>0</td>\n",
       "      <td>Young Age</td>\n",
       "      <td>Overweight</td>\n",
       "      <td>Normal</td>\n",
       "      <td>Normal</td>\n",
       "    </tr>\n",
       "    <tr>\n",
       "      <th>2</th>\n",
       "      <td>8</td>\n",
       "      <td>183.0</td>\n",
       "      <td>64.0</td>\n",
       "      <td>29.0</td>\n",
       "      <td>125.0</td>\n",
       "      <td>23.3</td>\n",
       "      <td>0.672</td>\n",
       "      <td>32</td>\n",
       "      <td>1</td>\n",
       "      <td>Young Age</td>\n",
       "      <td>Normal weight</td>\n",
       "      <td>Normal</td>\n",
       "      <td>Normal</td>\n",
       "    </tr>\n",
       "    <tr>\n",
       "      <th>3</th>\n",
       "      <td>1</td>\n",
       "      <td>89.0</td>\n",
       "      <td>66.0</td>\n",
       "      <td>23.0</td>\n",
       "      <td>94.0</td>\n",
       "      <td>28.1</td>\n",
       "      <td>0.167</td>\n",
       "      <td>21</td>\n",
       "      <td>0</td>\n",
       "      <td>Young Age</td>\n",
       "      <td>Overweight</td>\n",
       "      <td>Normal</td>\n",
       "      <td>Normal</td>\n",
       "    </tr>\n",
       "    <tr>\n",
       "      <th>4</th>\n",
       "      <td>0</td>\n",
       "      <td>137.0</td>\n",
       "      <td>40.0</td>\n",
       "      <td>35.0</td>\n",
       "      <td>168.0</td>\n",
       "      <td>43.1</td>\n",
       "      <td>2.288</td>\n",
       "      <td>33</td>\n",
       "      <td>1</td>\n",
       "      <td>Young Age</td>\n",
       "      <td>Obesity</td>\n",
       "      <td>High</td>\n",
       "      <td>Normal</td>\n",
       "    </tr>\n",
       "  </tbody>\n",
       "</table>\n",
       "</div>"
      ],
      "text/plain": [
       "   Pregnancies  Glucose  BloodPressure  SkinThickness  Insulin   BMI  \\\n",
       "0            6    148.0           72.0           35.0    125.0  33.6   \n",
       "1            1     85.0           66.0           29.0    125.0  26.6   \n",
       "2            8    183.0           64.0           29.0    125.0  23.3   \n",
       "3            1     89.0           66.0           23.0     94.0  28.1   \n",
       "4            0    137.0           40.0           35.0    168.0  43.1   \n",
       "\n",
       "   DiabetesPedigreeFunction  Age  Outcome   Age_Group BMI_Categories  \\\n",
       "0                     0.627   50        1  Middle Age        Obesity   \n",
       "1                     0.351   31        0   Young Age     Overweight   \n",
       "2                     0.672   32        1   Young Age  Normal weight   \n",
       "3                     0.167   21        0   Young Age     Overweight   \n",
       "4                     2.288   33        1   Young Age        Obesity   \n",
       "\n",
       "  Insulin_Level Blood_Pressure  \n",
       "0        Normal         Normal  \n",
       "1        Normal         Normal  \n",
       "2        Normal         Normal  \n",
       "3        Normal         Normal  \n",
       "4          High         Normal  "
      ]
     },
     "execution_count": 26,
     "metadata": {},
     "output_type": "execute_result"
    }
   ],
   "source": [
    "# Blood Pressure\n",
    "df.loc[(df[\"BloodPressure\"] < 80), \"Blood_Pressure\"] = \"Normal\"\n",
    "df.loc[(df[\"BloodPressure\"] >= 80) & (df[\"BloodPressure\"] <= 89), \"Blood_Pressure\"] = \"High BP Stage 1\"\n",
    "df.loc[(df[\"BloodPressure\"] > 89) & (df[\"BloodPressure\"] <= 120), \"Blood_Pressure\"] = \"High BP Stage 2\"\n",
    "df.loc[(df[\"BloodPressure\"] > 120), \"Blood_Pressure\"] = \"Crisis High BP\"\n",
    "df.head()"
   ]
  },
  {
   "cell_type": "code",
   "execution_count": 27,
   "id": "73b5a510",
   "metadata": {},
   "outputs": [
    {
     "name": "stdout",
     "output_type": "stream",
     "text": [
      "Observations: 768\n",
      "Variables: 13\n",
      "cat_cols: 5\n",
      "num_cols: 8\n",
      "cat_but_car: 0\n",
      "num_but_cat: 1\n"
     ]
    }
   ],
   "source": [
    "# Recategorizing\n",
    "cat_cols = [col for col in df.columns if str(df[col].dtypes) in [\"category\", \"object\", \"bool\"]]\n",
    "num_but_cat = [col for col in df.columns if df[col].nunique() < 10 and df[col].dtypes in [\"int64\", \"float\"]]\n",
    "cat_but_car = [col for col in df.columns if df[col].nunique() > 20 and str(df[col].dtypes) in [\"category\", \"object\", \"bool\"]]\n",
    "cat_cols = cat_cols + num_but_cat\n",
    "cat_cols = [col for col in cat_cols if col not in cat_but_car]\n",
    "num_cols = [col for col in df.columns if df[col].dtypes in [\"int64\", \"float\"]]\n",
    "num_cols = [col for col in df.columns if col not in cat_cols]\n",
    "print(f\"Observations: {df.shape[0]}\")\n",
    "print(f\"Variables: {df.shape[1]}\")\n",
    "print(f\"cat_cols: {len(cat_cols)}\")\n",
    "print(f\"num_cols: {len(num_cols)}\")\n",
    "print(f\"cat_but_car: {len(cat_but_car)}\")\n",
    "print(f\"num_but_cat: {len(num_but_cat)}\")"
   ]
  },
  {
   "cell_type": "code",
   "execution_count": 28,
   "id": "b395da4c",
   "metadata": {},
   "outputs": [
    {
     "data": {
      "text/plain": [
       "['Outcome', 'Insulin_Level']"
      ]
     },
     "execution_count": 28,
     "metadata": {},
     "output_type": "execute_result"
    }
   ],
   "source": [
    "# Label Encoding\n",
    "def label_encoder(dataframe, binary_col):\n",
    "    labelencoder = LabelEncoder()\n",
    "    dataframe[binary_col] = labelencoder.fit_transform(dataframe[binary_col])\n",
    "    return dataframe\n",
    "\n",
    "binary_cols = [col for col in df.columns if df[col].dtype not in [int, float] and df[col].nunique() == 2]\n",
    "for col in binary_cols:\n",
    "    df = label_encoder(df, col)\n",
    "binary_cols"
   ]
  },
  {
   "cell_type": "code",
   "execution_count": 29,
   "id": "9a6e5208",
   "metadata": {},
   "outputs": [
    {
     "data": {
      "text/plain": [
       "['Age_Group', 'BMI_Categories', 'Insulin_Level', 'Blood_Pressure']"
      ]
     },
     "execution_count": 29,
     "metadata": {},
     "output_type": "execute_result"
    }
   ],
   "source": [
    "# One-Hat Encoding\n",
    "def one_hot_encoder(dataframe, categorical_cols, drop_first=True):\n",
    "    dataframe = pd.get_dummies(dataframe, columns=categorical_cols, drop_first=drop_first)\n",
    "    return dataframe\n",
    "ohe_cols = [col for col in df.columns if 10 >= df[col].nunique() > 2]\n",
    "ohe_cols"
   ]
  },
  {
   "cell_type": "code",
   "execution_count": 30,
   "id": "86a29700",
   "metadata": {},
   "outputs": [],
   "source": [
    "one_hot_encoder(df, ohe_cols).head()\n",
    "df = one_hot_encoder(df, cat_cols, drop_first=True)"
   ]
  },
  {
   "cell_type": "code",
   "execution_count": 31,
   "id": "191ac645",
   "metadata": {},
   "outputs": [
    {
     "data": {
      "text/html": [
       "<div>\n",
       "<style scoped>\n",
       "    .dataframe tbody tr th:only-of-type {\n",
       "        vertical-align: middle;\n",
       "    }\n",
       "\n",
       "    .dataframe tbody tr th {\n",
       "        vertical-align: top;\n",
       "    }\n",
       "\n",
       "    .dataframe thead th {\n",
       "        text-align: right;\n",
       "    }\n",
       "</style>\n",
       "<table border=\"1\" class=\"dataframe\">\n",
       "  <thead>\n",
       "    <tr style=\"text-align: right;\">\n",
       "      <th></th>\n",
       "      <th>Pregnancies</th>\n",
       "      <th>Glucose</th>\n",
       "      <th>BloodPressure</th>\n",
       "      <th>SkinThickness</th>\n",
       "      <th>Insulin</th>\n",
       "      <th>BMI</th>\n",
       "      <th>DiabetesPedigreeFunction</th>\n",
       "      <th>Age</th>\n",
       "      <th>Age_Group_Middle Age</th>\n",
       "      <th>Age_Group_Senile  Age</th>\n",
       "      <th>Age_Group_Young Age</th>\n",
       "      <th>BMI_Categories_Obesity</th>\n",
       "      <th>BMI_Categories_Overweight</th>\n",
       "      <th>BMI_Categories_Underweight</th>\n",
       "      <th>Insulin_Level_1</th>\n",
       "      <th>Insulin_Level_2</th>\n",
       "      <th>Blood_Pressure_High BP Stage 1</th>\n",
       "      <th>Blood_Pressure_High BP Stage 2</th>\n",
       "      <th>Blood_Pressure_Normal</th>\n",
       "      <th>Outcome_1</th>\n",
       "    </tr>\n",
       "  </thead>\n",
       "  <tbody>\n",
       "    <tr>\n",
       "      <th>0</th>\n",
       "      <td>0.639947</td>\n",
       "      <td>0.866045</td>\n",
       "      <td>-0.031990</td>\n",
       "      <td>0.680052</td>\n",
       "      <td>-0.182749</td>\n",
       "      <td>0.166619</td>\n",
       "      <td>0.468492</td>\n",
       "      <td>1.425995</td>\n",
       "      <td>1</td>\n",
       "      <td>0</td>\n",
       "      <td>0</td>\n",
       "      <td>1</td>\n",
       "      <td>0</td>\n",
       "      <td>0</td>\n",
       "      <td>1</td>\n",
       "      <td>0</td>\n",
       "      <td>0</td>\n",
       "      <td>0</td>\n",
       "      <td>1</td>\n",
       "      <td>1</td>\n",
       "    </tr>\n",
       "    <tr>\n",
       "      <th>1</th>\n",
       "      <td>-0.844885</td>\n",
       "      <td>-1.205066</td>\n",
       "      <td>-0.528319</td>\n",
       "      <td>-0.010867</td>\n",
       "      <td>-0.182749</td>\n",
       "      <td>-0.852200</td>\n",
       "      <td>-0.365061</td>\n",
       "      <td>-0.190672</td>\n",
       "      <td>0</td>\n",
       "      <td>0</td>\n",
       "      <td>1</td>\n",
       "      <td>0</td>\n",
       "      <td>1</td>\n",
       "      <td>0</td>\n",
       "      <td>1</td>\n",
       "      <td>0</td>\n",
       "      <td>0</td>\n",
       "      <td>0</td>\n",
       "      <td>1</td>\n",
       "      <td>0</td>\n",
       "    </tr>\n",
       "    <tr>\n",
       "      <th>2</th>\n",
       "      <td>1.233880</td>\n",
       "      <td>2.016662</td>\n",
       "      <td>-0.693761</td>\n",
       "      <td>-0.010867</td>\n",
       "      <td>-0.182749</td>\n",
       "      <td>-1.332500</td>\n",
       "      <td>0.604397</td>\n",
       "      <td>-0.105584</td>\n",
       "      <td>0</td>\n",
       "      <td>0</td>\n",
       "      <td>1</td>\n",
       "      <td>0</td>\n",
       "      <td>0</td>\n",
       "      <td>0</td>\n",
       "      <td>1</td>\n",
       "      <td>0</td>\n",
       "      <td>0</td>\n",
       "      <td>0</td>\n",
       "      <td>1</td>\n",
       "      <td>1</td>\n",
       "    </tr>\n",
       "    <tr>\n",
       "      <th>3</th>\n",
       "      <td>-0.844885</td>\n",
       "      <td>-1.073567</td>\n",
       "      <td>-0.528319</td>\n",
       "      <td>-0.701786</td>\n",
       "      <td>-0.553400</td>\n",
       "      <td>-0.633881</td>\n",
       "      <td>-0.920763</td>\n",
       "      <td>-1.041549</td>\n",
       "      <td>0</td>\n",
       "      <td>0</td>\n",
       "      <td>1</td>\n",
       "      <td>0</td>\n",
       "      <td>1</td>\n",
       "      <td>0</td>\n",
       "      <td>1</td>\n",
       "      <td>0</td>\n",
       "      <td>0</td>\n",
       "      <td>0</td>\n",
       "      <td>1</td>\n",
       "      <td>0</td>\n",
       "    </tr>\n",
       "    <tr>\n",
       "      <th>4</th>\n",
       "      <td>-1.141852</td>\n",
       "      <td>0.504422</td>\n",
       "      <td>-2.679076</td>\n",
       "      <td>0.680052</td>\n",
       "      <td>0.331380</td>\n",
       "      <td>1.549303</td>\n",
       "      <td>5.484909</td>\n",
       "      <td>-0.020496</td>\n",
       "      <td>0</td>\n",
       "      <td>0</td>\n",
       "      <td>1</td>\n",
       "      <td>1</td>\n",
       "      <td>0</td>\n",
       "      <td>0</td>\n",
       "      <td>0</td>\n",
       "      <td>0</td>\n",
       "      <td>0</td>\n",
       "      <td>0</td>\n",
       "      <td>1</td>\n",
       "      <td>1</td>\n",
       "    </tr>\n",
       "  </tbody>\n",
       "</table>\n",
       "</div>"
      ],
      "text/plain": [
       "   Pregnancies   Glucose  BloodPressure  SkinThickness   Insulin       BMI  \\\n",
       "0     0.639947  0.866045      -0.031990       0.680052 -0.182749  0.166619   \n",
       "1    -0.844885 -1.205066      -0.528319      -0.010867 -0.182749 -0.852200   \n",
       "2     1.233880  2.016662      -0.693761      -0.010867 -0.182749 -1.332500   \n",
       "3    -0.844885 -1.073567      -0.528319      -0.701786 -0.553400 -0.633881   \n",
       "4    -1.141852  0.504422      -2.679076       0.680052  0.331380  1.549303   \n",
       "\n",
       "   DiabetesPedigreeFunction       Age  Age_Group_Middle Age  \\\n",
       "0                  0.468492  1.425995                     1   \n",
       "1                 -0.365061 -0.190672                     0   \n",
       "2                  0.604397 -0.105584                     0   \n",
       "3                 -0.920763 -1.041549                     0   \n",
       "4                  5.484909 -0.020496                     0   \n",
       "\n",
       "   Age_Group_Senile  Age  Age_Group_Young Age  BMI_Categories_Obesity  \\\n",
       "0                      0                    0                       1   \n",
       "1                      0                    1                       0   \n",
       "2                      0                    1                       0   \n",
       "3                      0                    1                       0   \n",
       "4                      0                    1                       1   \n",
       "\n",
       "   BMI_Categories_Overweight  BMI_Categories_Underweight  Insulin_Level_1  \\\n",
       "0                          0                           0                1   \n",
       "1                          1                           0                1   \n",
       "2                          0                           0                1   \n",
       "3                          1                           0                1   \n",
       "4                          0                           0                0   \n",
       "\n",
       "   Insulin_Level_2  Blood_Pressure_High BP Stage 1  \\\n",
       "0                0                               0   \n",
       "1                0                               0   \n",
       "2                0                               0   \n",
       "3                0                               0   \n",
       "4                0                               0   \n",
       "\n",
       "   Blood_Pressure_High BP Stage 2  Blood_Pressure_Normal  Outcome_1  \n",
       "0                               0                      1          1  \n",
       "1                               0                      1          0  \n",
       "2                               0                      1          1  \n",
       "3                               0                      1          0  \n",
       "4                               0                      1          1  "
      ]
     },
     "execution_count": 31,
     "metadata": {},
     "output_type": "execute_result"
    }
   ],
   "source": [
    "scaler = StandardScaler()\n",
    "df[num_cols] = scaler.fit_transform(df[num_cols])\n",
    "df.head()"
   ]
  },
  {
   "cell_type": "code",
   "execution_count": 32,
   "id": "20354909",
   "metadata": {},
   "outputs": [
    {
     "data": {
      "text/plain": [
       "(768, 20)"
      ]
     },
     "execution_count": 32,
     "metadata": {},
     "output_type": "execute_result"
    }
   ],
   "source": [
    "df.shape"
   ]
  },
  {
   "cell_type": "code",
   "execution_count": 33,
   "id": "645152c5",
   "metadata": {},
   "outputs": [],
   "source": [
    "y = df[\"Outcome_1\"]\n",
    "x = df.drop(\"Outcome_1\", axis=1)\n",
    "x_train, x_test, y_train, y_test = train_test_split(x, y, test_size=0.30)\n",
    "rf_model = RandomForestClassifier(random_state=46).fit(x_train, y_train)\n",
    "y_pred = rf_model.predict(x_test)"
   ]
  },
  {
   "cell_type": "code",
   "execution_count": 34,
   "id": "4ee664a6",
   "metadata": {},
   "outputs": [
    {
     "name": "stdout",
     "output_type": "stream",
     "text": [
      "Accuracy: 0.81\n",
      "Recall: 0.739\n",
      "Precision: 0.65\n",
      "F1: 0.69\n",
      "Auc: 0.79\n"
     ]
    }
   ],
   "source": [
    "print(f\"Accuracy: {round(accuracy_score(y_pred, y_test), 2)}\")\n",
    "print(f\"Recall: {round(recall_score(y_pred, y_test), 3)}\")\n",
    "print(f\"Precision: {round(precision_score(y_pred, y_test), 2)}\")\n",
    "print(f\"F1: {round(f1_score(y_pred, y_test), 2)}\")\n",
    "print(f\"Auc: {round(roc_auc_score(y_pred, y_test), 2)}\")"
   ]
  },
  {
   "cell_type": "code",
   "execution_count": 35,
   "id": "de7d3afd",
   "metadata": {},
   "outputs": [
    {
     "name": "stdout",
     "output_type": "stream",
     "text": [
      "       Value                         Feature\n",
      "1   0.234123                         Glucose\n",
      "5   0.138845                             BMI\n",
      "6   0.112004        DiabetesPedigreeFunction\n",
      "7   0.108948                             Age\n",
      "0   0.079866                     Pregnancies\n",
      "4   0.079234                         Insulin\n",
      "3   0.074506                   SkinThickness\n",
      "2   0.073614                   BloodPressure\n",
      "11  0.029438          BMI_Categories_Obesity\n",
      "14  0.012402                 Insulin_Level_1\n",
      "12  0.010922       BMI_Categories_Overweight\n",
      "16  0.010365  Blood_Pressure_High BP Stage 1\n",
      "18  0.010009           Blood_Pressure_Normal\n",
      "10  0.009778             Age_Group_Young Age\n",
      "8   0.009532            Age_Group_Middle Age\n",
      "17  0.006128  Blood_Pressure_High BP Stage 2\n",
      "15  0.000166                 Insulin_Level_2\n",
      "9   0.000082           Age_Group_Senile  Age\n",
      "13  0.000039      BMI_Categories_Underweight\n"
     ]
    },
    {
     "data": {
      "image/png": "[encoded data removed]",
      "text/plain": [
       "<Figure size 720x720 with 1 Axes>"
      ]
     },
     "metadata": {
      "needs_background": "light"
     },
     "output_type": "display_data"
    }
   ],
   "source": [
    "# FEATURE IMPORTANCE\n",
    "def plot_importance(model, features, num=len(x), save=False):\n",
    "    feature_imp = pd.DataFrame({'Value': model.feature_importances_, 'Feature': features.columns})\n",
    "    print(feature_imp.sort_values(\"Value\", ascending=False))\n",
    "    plt.figure(figsize=(10, 10))\n",
    "    sns.set(font_scale=1)\n",
    "    sns.barplot(x=\"Value\", y=\"Feature\", data=feature_imp.sort_values(by=\"Value\",\n",
    "                                                                     ascending=False)[0:num])\n",
    "    plt.title('Features')\n",
    "    plt.tight_layout()\n",
    "    plt.show()\n",
    "    if save:\n",
    "        plt.savefig('importances.png')\n",
    "\n",
    "\n",
    "plot_importance(rf_model, x)"
   ]
  },
  {
   "cell_type": "code",
   "execution_count": 36,
   "id": "97869dca",
   "metadata": {},
   "outputs": [],
   "source": [
    "# knn\n",
    "knn_model = KNeighborsClassifier().fit(x, y)"
   ]
  },
  {
   "cell_type": "code",
   "execution_count": 37,
   "id": "c4e9b26b",
   "metadata": {},
   "outputs": [
    {
     "data": {
      "text/html": [
       "<div>\n",
       "<style scoped>\n",
       "    .dataframe tbody tr th:only-of-type {\n",
       "        vertical-align: middle;\n",
       "    }\n",
       "\n",
       "    .dataframe tbody tr th {\n",
       "        vertical-align: top;\n",
       "    }\n",
       "\n",
       "    .dataframe thead th {\n",
       "        text-align: right;\n",
       "    }\n",
       "</style>\n",
       "<table border=\"1\" class=\"dataframe\">\n",
       "  <thead>\n",
       "    <tr style=\"text-align: right;\">\n",
       "      <th></th>\n",
       "      <th>Pregnancies</th>\n",
       "      <th>Glucose</th>\n",
       "      <th>BloodPressure</th>\n",
       "      <th>SkinThickness</th>\n",
       "      <th>Insulin</th>\n",
       "      <th>BMI</th>\n",
       "      <th>DiabetesPedigreeFunction</th>\n",
       "      <th>Age</th>\n",
       "      <th>Age_Group_Middle Age</th>\n",
       "      <th>Age_Group_Senile  Age</th>\n",
       "      <th>Age_Group_Young Age</th>\n",
       "      <th>BMI_Categories_Obesity</th>\n",
       "      <th>BMI_Categories_Overweight</th>\n",
       "      <th>BMI_Categories_Underweight</th>\n",
       "      <th>Insulin_Level_1</th>\n",
       "      <th>Insulin_Level_2</th>\n",
       "      <th>Blood_Pressure_High BP Stage 1</th>\n",
       "      <th>Blood_Pressure_High BP Stage 2</th>\n",
       "      <th>Blood_Pressure_Normal</th>\n",
       "    </tr>\n",
       "  </thead>\n",
       "  <tbody>\n",
       "    <tr>\n",
       "      <th>195</th>\n",
       "      <td>0.342981</td>\n",
       "      <td>1.194792</td>\n",
       "      <td>0.960667</td>\n",
       "      <td>1.370971</td>\n",
       "      <td>0.833552</td>\n",
       "      <td>1.010784</td>\n",
       "      <td>-0.232176</td>\n",
       "      <td>-0.360847</td>\n",
       "      <td>0</td>\n",
       "      <td>0</td>\n",
       "      <td>1</td>\n",
       "      <td>1</td>\n",
       "      <td>0</td>\n",
       "      <td>0</td>\n",
       "      <td>0</td>\n",
       "      <td>0</td>\n",
       "      <td>1</td>\n",
       "      <td>0</td>\n",
       "      <td>0</td>\n",
       "    </tr>\n",
       "  </tbody>\n",
       "</table>\n",
       "</div>"
      ],
      "text/plain": [
       "     Pregnancies   Glucose  BloodPressure  SkinThickness   Insulin       BMI  \\\n",
       "195     0.342981  1.194792       0.960667       1.370971  0.833552  1.010784   \n",
       "\n",
       "     DiabetesPedigreeFunction       Age  Age_Group_Middle Age  \\\n",
       "195                 -0.232176 -0.360847                     0   \n",
       "\n",
       "     Age_Group_Senile  Age  Age_Group_Young Age  BMI_Categories_Obesity  \\\n",
       "195                      0                    1                       1   \n",
       "\n",
       "     BMI_Categories_Overweight  BMI_Categories_Underweight  Insulin_Level_1  \\\n",
       "195                          0                           0                0   \n",
       "\n",
       "     Insulin_Level_2  Blood_Pressure_High BP Stage 1  \\\n",
       "195                0                               1   \n",
       "\n",
       "     Blood_Pressure_High BP Stage 2  Blood_Pressure_Normal  \n",
       "195                               0                      0  "
      ]
     },
     "execution_count": 37,
     "metadata": {},
     "output_type": "execute_result"
    }
   ],
   "source": [
    "random_user = x.sample(1, random_state=45)\n",
    "random_user"
   ]
  },
  {
   "cell_type": "code",
   "execution_count": 38,
   "id": "67d13b25",
   "metadata": {},
   "outputs": [
    {
     "data": {
      "text/plain": [
       "array([0], dtype=uint8)"
      ]
     },
     "execution_count": 38,
     "metadata": {},
     "output_type": "execute_result"
    }
   ],
   "source": [
    "knn_model.predict(random_user)"
   ]
  },
  {
   "cell_type": "code",
   "execution_count": 39,
   "id": "e8304dbc",
   "metadata": {},
   "outputs": [
    {
     "name": "stdout",
     "output_type": "stream",
     "text": [
      "              precision    recall  f1-score   support\n",
      "\n",
      "           0       0.85      0.90      0.87       500\n",
      "           1       0.78      0.69      0.74       268\n",
      "\n",
      "    accuracy                           0.83       768\n",
      "   macro avg       0.81      0.80      0.80       768\n",
      "weighted avg       0.82      0.83      0.82       768\n",
      "\n"
     ]
    }
   ],
   "source": [
    "y_pred = knn_model.predict(x)  \n",
    "y_prob = knn_model.predict_proba(x)[:, 1]  #1 sınıfına ait olma olasılıkları\n",
    "print(classification_report(y, y_pred))"
   ]
  },
  {
   "cell_type": "code",
   "execution_count": 40,
   "id": "52f8a46f",
   "metadata": {},
   "outputs": [
    {
     "data": {
      "text/plain": [
       "0.9045223880597015"
      ]
     },
     "execution_count": 40,
     "metadata": {},
     "output_type": "execute_result"
    }
   ],
   "source": [
    "roc_auc_score(y, y_prob)"
   ]
  },
  {
   "cell_type": "code",
   "execution_count": 41,
   "id": "1e3297b0",
   "metadata": {},
   "outputs": [
    {
     "data": {
      "text/plain": [
       "0.7278838808250574"
      ]
     },
     "execution_count": 41,
     "metadata": {},
     "output_type": "execute_result"
    }
   ],
   "source": [
    "cv_results = cross_validate(knn_model, x, y, cv=5, scoring=[\"accuracy\", \"f1\", \"roc_auc\"])\n",
    "cv_results['test_accuracy'].mean()"
   ]
  },
  {
   "cell_type": "code",
   "execution_count": 42,
   "id": "64335d0f",
   "metadata": {},
   "outputs": [
    {
     "data": {
      "text/plain": [
       "0.5997588736086115"
      ]
     },
     "execution_count": 42,
     "metadata": {},
     "output_type": "execute_result"
    }
   ],
   "source": [
    "cv_results['test_f1'].mean()"
   ]
  },
  {
   "cell_type": "code",
   "execution_count": 43,
   "id": "9e0e58d1",
   "metadata": {},
   "outputs": [
    {
     "data": {
      "text/plain": [
       "0.7946841369671558"
      ]
     },
     "execution_count": 43,
     "metadata": {},
     "output_type": "execute_result"
    }
   ],
   "source": [
    "cv_results['test_roc_auc'].mean()"
   ]
  },
  {
   "cell_type": "code",
   "execution_count": 44,
   "id": "7ede4f64",
   "metadata": {},
   "outputs": [
    {
     "data": {
      "text/plain": [
       "{'algorithm': 'auto',\n",
       " 'leaf_size': 30,\n",
       " 'metric': 'minkowski',\n",
       " 'metric_params': None,\n",
       " 'n_jobs': None,\n",
       " 'n_neighbors': 5,\n",
       " 'p': 2,\n",
       " 'weights': 'uniform'}"
      ]
     },
     "execution_count": 44,
     "metadata": {},
     "output_type": "execute_result"
    }
   ],
   "source": [
    "knn_model.get_params()"
   ]
  },
  {
   "cell_type": "code",
   "execution_count": 45,
   "id": "bb20211a",
   "metadata": {},
   "outputs": [
    {
     "name": "stdout",
     "output_type": "stream",
     "text": [
      "Fitting 5 folds for each of 48 candidates, totalling 240 fits\n"
     ]
    }
   ],
   "source": [
    "knn_params = {\"n_neighbors\": range(2, 50)}\n",
    "knn_gs_best = GridSearchCV(knn_model,\n",
    "                           knn_params,\n",
    "                           cv=5,\n",
    "                           n_jobs=-1,\n",
    "                           verbose=1).fit(x, y)"
   ]
  },
  {
   "cell_type": "code",
   "execution_count": 46,
   "id": "20535618",
   "metadata": {},
   "outputs": [
    {
     "data": {
      "text/plain": [
       "{'n_neighbors': 25}"
      ]
     },
     "execution_count": 46,
     "metadata": {},
     "output_type": "execute_result"
    }
   ],
   "source": [
    "knn_gs_best.best_params_"
   ]
  },
  {
   "cell_type": "code",
   "execution_count": 47,
   "id": "f9462f04",
   "metadata": {},
   "outputs": [],
   "source": [
    "knn_final = knn_model.set_params(**knn_gs_best.best_params_).fit(x, y)"
   ]
  },
  {
   "cell_type": "code",
   "execution_count": 48,
   "id": "14edfe06",
   "metadata": {},
   "outputs": [],
   "source": [
    "cv_results = cross_validate(knn_final,\n",
    "                            x,\n",
    "                            y,\n",
    "                            cv=5,\n",
    "                            scoring=[\"accuracy\", \"f1\", \"roc_auc\"])"
   ]
  },
  {
   "cell_type": "code",
   "execution_count": 49,
   "id": "6e87a3a9",
   "metadata": {},
   "outputs": [
    {
     "data": {
      "text/plain": [
       "0.7656735421441303"
      ]
     },
     "execution_count": 49,
     "metadata": {},
     "output_type": "execute_result"
    }
   ],
   "source": [
    "cv_results['test_accuracy'].mean()"
   ]
  },
  {
   "cell_type": "code",
   "execution_count": 50,
   "id": "d27e28de",
   "metadata": {},
   "outputs": [
    {
     "data": {
      "text/plain": [
       "0.6202980715169943"
      ]
     },
     "execution_count": 50,
     "metadata": {},
     "output_type": "execute_result"
    }
   ],
   "source": [
    "cv_results['test_f1'].mean()"
   ]
  },
  {
   "cell_type": "code",
   "execution_count": 51,
   "id": "d3106309",
   "metadata": {},
   "outputs": [
    {
     "data": {
      "text/plain": [
       "0.8336512928022362"
      ]
     },
     "execution_count": 51,
     "metadata": {},
     "output_type": "execute_result"
    }
   ],
   "source": [
    "cv_results['test_roc_auc'].mean()"
   ]
  },
  {
   "cell_type": "code",
   "execution_count": 52,
   "id": "32b950b0",
   "metadata": {},
   "outputs": [
    {
     "data": {
      "text/plain": [
       "array([0], dtype=uint8)"
      ]
     },
     "execution_count": 52,
     "metadata": {},
     "output_type": "execute_result"
    }
   ],
   "source": [
    "random_user = x.sample(1)\n",
    "knn_final.predict(random_user)"
   ]
  },
  {
   "cell_type": "code",
   "execution_count": null,
   "id": "11cd3ce4",
   "metadata": {},
   "outputs": [],
   "source": []
  }
 ],
 "metadata": {
  "kernelspec": {
   "display_name": "Python 3 (ipykernel)",
   "language": "python",
   "name": "python3"
  },
  "language_info": {
   "codemirror_mode": {
    "name": "ipython",
    "version": 3
   },
   "file_extension": ".py",
   "mimetype": "text/x-python",
   "name": "python",
   "nbconvert_exporter": "python",
   "pygments_lexer": "ipython3",
   "version": "3.9.12"
  }
 },
 "nbformat": 4,
 "nbformat_minor": 5
}
